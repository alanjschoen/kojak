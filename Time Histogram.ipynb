{
 "cells": [
  {
   "cell_type": "code",
   "execution_count": 5,
   "metadata": {
    "collapsed": true
   },
   "outputs": [],
   "source": [
    "from pymongo import MongoClient\n",
    "import datetime\n",
    "from dateutil import parser\n",
    "import pandas as pd\n",
    "from pytz import timezone"
   ]
  },
  {
   "cell_type": "markdown",
   "metadata": {},
   "source": [
    "This notebook relies on a database of tweets.  By default, the database is running on the same computer where this code runs, so it is not necessary to specify the IP address of the DB.  Unless you have scraped tweets too, you will not be able to run this notebook."
   ]
  },
  {
   "cell_type": "code",
   "execution_count": 6,
   "metadata": {
    "collapsed": true
   },
   "outputs": [],
   "source": [
    "# Initialize mongoDB client\n",
    "client = MongoClient()\n",
    "db = client.retweets"
   ]
  },
  {
   "cell_type": "markdown",
   "metadata": {},
   "source": [
    "The `get_time_bins` function uses a histogram approach, iterating through each tweet and then counting it towards the appropriate bin.  This is faster than several other approaches that I tried."
   ]
  },
  {
   "cell_type": "code",
   "execution_count": 7,
   "metadata": {
    "collapsed": true
   },
   "outputs": [],
   "source": [
    "def get_time_bins(collection):\n",
    "    \"\"\"\n",
    "    Counts number of tweets in each hour in database.  Uses hours ending at :45 becuase that's when I collected data.\n",
    "    \"\"\"\n",
    "    # Get first and last tweet, adjust to standard 45-minute window\n",
    "    first_tweet = collection.find().sort('id', 1).limit(1).next()\n",
    "    first = parser.parse(first_tweet['created_at'])\n",
    "    first =  datetime.datetime(year=first.year, month=first.month, day=first.day, hour=first.hour, minute=45, tzinfo=first.tzinfo) - datetime.timedelta(hours=1)\n",
    "    last_tweet = collection.find().sort('id', -1).limit(1).next()\n",
    "    last = parser.parse(last_tweet['created_at'])\n",
    "    last =  datetime.datetime(year=last.year, month=last.month, day=last.day, hour=last.hour, minute=45, tzinfo=last.tzinfo) + datetime.timedelta(hours=1)\n",
    "    # now = datetime.datetime.now(timezone('UTC'))\n",
    "    # now =  datetime.datetime(year=now.year, month=now.month, day=now.day, hour=now.hour, minute=45, tzinfo=now.tzinfo)\n",
    "\n",
    "    # Build initial data for dataframe\n",
    "    num_bins = int((last - first).total_seconds()/3600)\n",
    "    bin_ends = first + pd.np.arange(1, num_bins+1)*datetime.timedelta(hours=1)\n",
    "    init_df = [(be, be, 0) for be in bin_ends]\n",
    "    df = pd.DataFrame(init_df, columns=['first_time', 'end', 'bin_count'])\n",
    "\n",
    "    # Place tweets into bins\n",
    "    for tweet in collection.find():\n",
    "        tweet_time = parser.parse(tweet['created_at']) # parse tweet time\n",
    "        binno = int((tweet_time - first).total_seconds()/3600) #binno is number of hours since first bin start\n",
    "        if binno < 0:\n",
    "            continue\n",
    "        df.set_value(binno, 'bin_count', df.bin_count[binno]+1)\n",
    "        if tweet_time < df.iloc[binno].first_time:\n",
    "            df.set_value(binno, 'first_time', tweet_time)\n",
    "    df = df[df.bin_count != 0]\n",
    "    return df"
   ]
  },
  {
   "cell_type": "markdown",
   "metadata": {},
   "source": [
    "Calculate tweet-time histogram for a single user"
   ]
  },
  {
   "cell_type": "code",
   "execution_count": 9,
   "metadata": {
    "collapsed": false
   },
   "outputs": [
    {
     "data": {
      "text/html": [
       "<div>\n",
       "<table border=\"1\" class=\"dataframe\">\n",
       "  <thead>\n",
       "    <tr style=\"text-align: right;\">\n",
       "      <th></th>\n",
       "      <th>first_time</th>\n",
       "      <th>end</th>\n",
       "      <th>bin_count</th>\n",
       "    </tr>\n",
       "  </thead>\n",
       "  <tbody>\n",
       "    <tr>\n",
       "      <th>0</th>\n",
       "      <td>2016-09-01 00:04:48+00:00</td>\n",
       "      <td>2016-09-01 00:45:00+00:00</td>\n",
       "      <td>8133</td>\n",
       "    </tr>\n",
       "    <tr>\n",
       "      <th>1</th>\n",
       "      <td>2016-09-01 01:44:40+00:00</td>\n",
       "      <td>2016-09-01 01:45:00+00:00</td>\n",
       "      <td>100</td>\n",
       "    </tr>\n",
       "    <tr>\n",
       "      <th>2</th>\n",
       "      <td>2016-09-01 02:44:43+00:00</td>\n",
       "      <td>2016-09-01 02:45:00+00:00</td>\n",
       "      <td>100</td>\n",
       "    </tr>\n",
       "    <tr>\n",
       "      <th>3</th>\n",
       "      <td>2016-09-01 03:44:37+00:00</td>\n",
       "      <td>2016-09-01 03:45:00+00:00</td>\n",
       "      <td>100</td>\n",
       "    </tr>\n",
       "    <tr>\n",
       "      <th>4</th>\n",
       "      <td>2016-09-01 04:44:29+00:00</td>\n",
       "      <td>2016-09-01 04:45:00+00:00</td>\n",
       "      <td>100</td>\n",
       "    </tr>\n",
       "  </tbody>\n",
       "</table>\n",
       "</div>"
      ],
      "text/plain": [
       "                  first_time                        end  bin_count\n",
       "0  2016-09-01 00:04:48+00:00  2016-09-01 00:45:00+00:00       8133\n",
       "1  2016-09-01 01:44:40+00:00  2016-09-01 01:45:00+00:00        100\n",
       "2  2016-09-01 02:44:43+00:00  2016-09-01 02:45:00+00:00        100\n",
       "3  2016-09-01 03:44:37+00:00  2016-09-01 03:45:00+00:00        100\n",
       "4  2016-09-01 04:44:29+00:00  2016-09-01 04:45:00+00:00        100"
      ]
     },
     "execution_count": 9,
     "metadata": {},
     "output_type": "execute_result"
    }
   ],
   "source": [
    "user = '@realDonaldTrump' # note: database names are case sensitive\n",
    "reponame = user[1:] + '_tweetsat' # naming convention for tweets mentioning user\n",
    "collection = db[reponame]\n",
    "#collection.find({'id': {'$gt': begin_id}}).sort('id', 1).limit(100).next()['created_at'] # test\n",
    "bins_df = get_time_bins(collection)\n",
    "bins_df.head()"
   ]
  },
  {
   "cell_type": "markdown",
   "metadata": {},
   "source": [
    "Convert tweet counts to rates (tweets/hour)"
   ]
  },
  {
   "cell_type": "code",
   "execution_count": 10,
   "metadata": {
    "collapsed": false
   },
   "outputs": [
    {
     "data": {
      "text/html": [
       "<div>\n",
       "<table border=\"1\" class=\"dataframe\">\n",
       "  <thead>\n",
       "    <tr style=\"text-align: right;\">\n",
       "      <th></th>\n",
       "      <th>first_time</th>\n",
       "      <th>end</th>\n",
       "      <th>bin_count</th>\n",
       "      <th>rate</th>\n",
       "    </tr>\n",
       "  </thead>\n",
       "  <tbody>\n",
       "    <tr>\n",
       "      <th>0</th>\n",
       "      <td>2016-09-01 00:04:48+00:00</td>\n",
       "      <td>2016-09-01 00:45:00+00:00</td>\n",
       "      <td>8133</td>\n",
       "      <td>12138.805970</td>\n",
       "    </tr>\n",
       "    <tr>\n",
       "      <th>1</th>\n",
       "      <td>2016-09-01 01:44:40+00:00</td>\n",
       "      <td>2016-09-01 01:45:00+00:00</td>\n",
       "      <td>100</td>\n",
       "      <td>18000.000000</td>\n",
       "    </tr>\n",
       "    <tr>\n",
       "      <th>2</th>\n",
       "      <td>2016-09-01 02:44:43+00:00</td>\n",
       "      <td>2016-09-01 02:45:00+00:00</td>\n",
       "      <td>100</td>\n",
       "      <td>21176.470588</td>\n",
       "    </tr>\n",
       "    <tr>\n",
       "      <th>3</th>\n",
       "      <td>2016-09-01 03:44:37+00:00</td>\n",
       "      <td>2016-09-01 03:45:00+00:00</td>\n",
       "      <td>100</td>\n",
       "      <td>15652.173913</td>\n",
       "    </tr>\n",
       "    <tr>\n",
       "      <th>4</th>\n",
       "      <td>2016-09-01 04:44:29+00:00</td>\n",
       "      <td>2016-09-01 04:45:00+00:00</td>\n",
       "      <td>100</td>\n",
       "      <td>11612.903226</td>\n",
       "    </tr>\n",
       "  </tbody>\n",
       "</table>\n",
       "</div>"
      ],
      "text/plain": [
       "                  first_time                        end  bin_count  \\\n",
       "0  2016-09-01 00:04:48+00:00  2016-09-01 00:45:00+00:00       8133   \n",
       "1  2016-09-01 01:44:40+00:00  2016-09-01 01:45:00+00:00        100   \n",
       "2  2016-09-01 02:44:43+00:00  2016-09-01 02:45:00+00:00        100   \n",
       "3  2016-09-01 03:44:37+00:00  2016-09-01 03:45:00+00:00        100   \n",
       "4  2016-09-01 04:44:29+00:00  2016-09-01 04:45:00+00:00        100   \n",
       "\n",
       "           rate  \n",
       "0  12138.805970  \n",
       "1  18000.000000  \n",
       "2  21176.470588  \n",
       "3  15652.173913  \n",
       "4  11612.903226  "
      ]
     },
     "execution_count": 10,
     "metadata": {},
     "output_type": "execute_result"
    }
   ],
   "source": [
    "rates = bins_df['bin_count']/((bins_df['end'] - bins_df['first_time'])/pd.np.timedelta64(1, 's'))*3600\n",
    "bins_df['rate'] = rates\n",
    "bins_df.head()"
   ]
  },
  {
   "cell_type": "markdown",
   "metadata": {},
   "source": [
    "Produce a plot of tweet rate over time."
   ]
  },
  {
   "cell_type": "code",
   "execution_count": 11,
   "metadata": {
    "collapsed": false
   },
   "outputs": [
    {
     "data": {
      "image/png": "[encoded data removed]",
      "text/plain": [
       "<matplotlib.figure.Figure at 0x103c29250>"
      ]
     },
     "metadata": {},
     "output_type": "display_data"
    }
   ],
   "source": [
    "# Plot the rate over time\n",
    "import matplotlib.pyplot as plt\n",
    "%matplotlib inline\n",
    "plt.plot(range(len(rates)), rates)\n",
    "\n",
    "plt.xlabel('Interval No')\n",
    "plt.ylabel('Number of tweets per hour')\n",
    "plt.title(user)\n",
    "plt.show()"
   ]
  },
  {
   "cell_type": "code",
   "execution_count": 46,
   "metadata": {
    "collapsed": false
   },
   "outputs": [],
   "source": [
    "from pytz import timezone\n",
    "\n",
    "# Initialize rate dataframe\n",
    "hour_rates_df = pd.DataFrame([(0.0,0,'%d:45'%i) for i in range(24)], columns=['total', 'n', 'hour'])\n",
    "\n",
    "# Add up measurements for each time\n",
    "for row in bins_df.iterrows():\n",
    "    time_end = row[1]['end'].astimezone(timezone('US/Eastern'))\n",
    "    if time_end.weekday() < 5: # saturday5, sunday6 (monday0)\n",
    "        hour = time_end.hour\n",
    "        hour_rates_df.set_value(hour, 'total', hour_rates_df.ix[hour, 'total'] + row[1]['rate'])\n",
    "        hour_rates_df.set_value(hour, 'n', hour_rates_df.ix[hour, 'n'] + 1)\n",
    "        \n",
    "# Calculate average rate for each time\n",
    "hour_rates_df['rate'] = hour_rates_df['total']/hour_rates_df['n']\n"
   ]
  },
  {
   "cell_type": "code",
   "execution_count": 47,
   "metadata": {
    "collapsed": false
   },
   "outputs": [
    {
     "data": {
      "text/html": [
       "<div>\n",
       "<table border=\"1\" class=\"dataframe\">\n",
       "  <thead>\n",
       "    <tr style=\"text-align: right;\">\n",
       "      <th></th>\n",
       "      <th>total</th>\n",
       "      <th>n</th>\n",
       "      <th>hour</th>\n",
       "      <th>rate</th>\n",
       "    </tr>\n",
       "  </thead>\n",
       "  <tbody>\n",
       "    <tr>\n",
       "      <th>0</th>\n",
       "      <td>30866.474654</td>\n",
       "      <td>4</td>\n",
       "      <td>0:45</td>\n",
       "      <td>7716.618664</td>\n",
       "    </tr>\n",
       "    <tr>\n",
       "      <th>1</th>\n",
       "      <td>24989.828221</td>\n",
       "      <td>4</td>\n",
       "      <td>1:45</td>\n",
       "      <td>6247.457055</td>\n",
       "    </tr>\n",
       "    <tr>\n",
       "      <th>2</th>\n",
       "      <td>14244.594280</td>\n",
       "      <td>3</td>\n",
       "      <td>2:45</td>\n",
       "      <td>4748.198093</td>\n",
       "    </tr>\n",
       "    <tr>\n",
       "      <th>3</th>\n",
       "      <td>9942.374698</td>\n",
       "      <td>3</td>\n",
       "      <td>3:45</td>\n",
       "      <td>3314.124899</td>\n",
       "    </tr>\n",
       "    <tr>\n",
       "      <th>4</th>\n",
       "      <td>8660.516503</td>\n",
       "      <td>3</td>\n",
       "      <td>4:45</td>\n",
       "      <td>2886.838834</td>\n",
       "    </tr>\n",
       "    <tr>\n",
       "      <th>5</th>\n",
       "      <td>9700.637290</td>\n",
       "      <td>3</td>\n",
       "      <td>5:45</td>\n",
       "      <td>3233.545763</td>\n",
       "    </tr>\n",
       "    <tr>\n",
       "      <th>6</th>\n",
       "      <td>20507.768094</td>\n",
       "      <td>3</td>\n",
       "      <td>6:45</td>\n",
       "      <td>6835.922698</td>\n",
       "    </tr>\n",
       "    <tr>\n",
       "      <th>7</th>\n",
       "      <td>23840.666796</td>\n",
       "      <td>3</td>\n",
       "      <td>7:45</td>\n",
       "      <td>7946.888932</td>\n",
       "    </tr>\n",
       "    <tr>\n",
       "      <th>8</th>\n",
       "      <td>32392.156863</td>\n",
       "      <td>3</td>\n",
       "      <td>8:45</td>\n",
       "      <td>10797.385621</td>\n",
       "    </tr>\n",
       "    <tr>\n",
       "      <th>9</th>\n",
       "      <td>34379.487179</td>\n",
       "      <td>3</td>\n",
       "      <td>9:45</td>\n",
       "      <td>11459.829060</td>\n",
       "    </tr>\n",
       "    <tr>\n",
       "      <th>10</th>\n",
       "      <td>46915.498295</td>\n",
       "      <td>4</td>\n",
       "      <td>10:45</td>\n",
       "      <td>11728.874574</td>\n",
       "    </tr>\n",
       "    <tr>\n",
       "      <th>11</th>\n",
       "      <td>32413.793103</td>\n",
       "      <td>3</td>\n",
       "      <td>11:45</td>\n",
       "      <td>10804.597701</td>\n",
       "    </tr>\n",
       "    <tr>\n",
       "      <th>12</th>\n",
       "      <td>31159.090909</td>\n",
       "      <td>3</td>\n",
       "      <td>12:45</td>\n",
       "      <td>10386.363636</td>\n",
       "    </tr>\n",
       "    <tr>\n",
       "      <th>13</th>\n",
       "      <td>29612.903226</td>\n",
       "      <td>3</td>\n",
       "      <td>13:45</td>\n",
       "      <td>9870.967742</td>\n",
       "    </tr>\n",
       "    <tr>\n",
       "      <th>14</th>\n",
       "      <td>20061.919505</td>\n",
       "      <td>2</td>\n",
       "      <td>14:45</td>\n",
       "      <td>10030.959752</td>\n",
       "    </tr>\n",
       "    <tr>\n",
       "      <th>15</th>\n",
       "      <td>19345.003774</td>\n",
       "      <td>3</td>\n",
       "      <td>15:45</td>\n",
       "      <td>6448.334591</td>\n",
       "    </tr>\n",
       "    <tr>\n",
       "      <th>16</th>\n",
       "      <td>26518.282989</td>\n",
       "      <td>3</td>\n",
       "      <td>16:45</td>\n",
       "      <td>8839.427663</td>\n",
       "    </tr>\n",
       "    <tr>\n",
       "      <th>17</th>\n",
       "      <td>17372.093023</td>\n",
       "      <td>2</td>\n",
       "      <td>17:45</td>\n",
       "      <td>8686.046512</td>\n",
       "    </tr>\n",
       "    <tr>\n",
       "      <th>18</th>\n",
       "      <td>20508.073767</td>\n",
       "      <td>3</td>\n",
       "      <td>18:45</td>\n",
       "      <td>6836.024589</td>\n",
       "    </tr>\n",
       "    <tr>\n",
       "      <th>19</th>\n",
       "      <td>30644.562334</td>\n",
       "      <td>3</td>\n",
       "      <td>19:45</td>\n",
       "      <td>10214.854111</td>\n",
       "    </tr>\n",
       "    <tr>\n",
       "      <th>20</th>\n",
       "      <td>37620.395319</td>\n",
       "      <td>4</td>\n",
       "      <td>20:45</td>\n",
       "      <td>9405.098830</td>\n",
       "    </tr>\n",
       "    <tr>\n",
       "      <th>21</th>\n",
       "      <td>44127.426580</td>\n",
       "      <td>4</td>\n",
       "      <td>21:45</td>\n",
       "      <td>11031.856645</td>\n",
       "    </tr>\n",
       "    <tr>\n",
       "      <th>22</th>\n",
       "      <td>46081.071351</td>\n",
       "      <td>4</td>\n",
       "      <td>22:45</td>\n",
       "      <td>11520.267838</td>\n",
       "    </tr>\n",
       "    <tr>\n",
       "      <th>23</th>\n",
       "      <td>38725.114548</td>\n",
       "      <td>4</td>\n",
       "      <td>23:45</td>\n",
       "      <td>9681.278637</td>\n",
       "    </tr>\n",
       "  </tbody>\n",
       "</table>\n",
       "</div>"
      ],
      "text/plain": [
       "           total  n   hour          rate\n",
       "0   30866.474654  4   0:45   7716.618664\n",
       "1   24989.828221  4   1:45   6247.457055\n",
       "2   14244.594280  3   2:45   4748.198093\n",
       "3    9942.374698  3   3:45   3314.124899\n",
       "4    8660.516503  3   4:45   2886.838834\n",
       "5    9700.637290  3   5:45   3233.545763\n",
       "6   20507.768094  3   6:45   6835.922698\n",
       "7   23840.666796  3   7:45   7946.888932\n",
       "8   32392.156863  3   8:45  10797.385621\n",
       "9   34379.487179  3   9:45  11459.829060\n",
       "10  46915.498295  4  10:45  11728.874574\n",
       "11  32413.793103  3  11:45  10804.597701\n",
       "12  31159.090909  3  12:45  10386.363636\n",
       "13  29612.903226  3  13:45   9870.967742\n",
       "14  20061.919505  2  14:45  10030.959752\n",
       "15  19345.003774  3  15:45   6448.334591\n",
       "16  26518.282989  3  16:45   8839.427663\n",
       "17  17372.093023  2  17:45   8686.046512\n",
       "18  20508.073767  3  18:45   6836.024589\n",
       "19  30644.562334  3  19:45  10214.854111\n",
       "20  37620.395319  4  20:45   9405.098830\n",
       "21  44127.426580  4  21:45  11031.856645\n",
       "22  46081.071351  4  22:45  11520.267838\n",
       "23  38725.114548  4  23:45   9681.278637"
      ]
     },
     "execution_count": 47,
     "metadata": {},
     "output_type": "execute_result"
    }
   ],
   "source": [
    "hour_rates_df"
   ]
  },
  {
   "cell_type": "code",
   "execution_count": 51,
   "metadata": {
    "collapsed": false
   },
   "outputs": [
    {
     "data": {
      "image/png": "[encoded data removed]",
      "text/plain": [
       "<matplotlib.figure.Figure at 0x10dae9090>"
      ]
     },
     "metadata": {},
     "output_type": "display_data"
    }
   ],
   "source": [
    "import seaborn as sns\n",
    "sns.set(style=\"whitegrid\")\n",
    "\n",
    "# Initialize the matplotlib figure\n",
    "f, ax = plt.subplots(figsize=(6, 15))\n",
    "\n",
    "# Plot the total crashes\n",
    "sns.set_color_codes(\"pastel\")\n",
    "sns.barplot(x=\"rate\", y=\"hour\", data=hour_rates_df,\n",
    "            label=\"Tweet rate\", color=\"b\")\n",
    "\n",
    "\n",
    "# Add a legend and informative axis label\n",
    "ax.legend(ncol=1, loc=\"lower right\", frameon=True)\n",
    "ax.set(ylabel=\"Time (US/Eastern)\", xlabel=\"Tweets per hour\")\n",
    "sns.despine(left=True, bottom=True)"
   ]
  },
  {
   "cell_type": "code",
   "execution_count": null,
   "metadata": {
    "collapsed": true
   },
   "outputs": [],
   "source": []
  }
 ],
 "metadata": {
  "kernelspec": {
   "display_name": "Python 2",
   "language": "python",
   "name": "python2"
  },
  "language_info": {
   "codemirror_mode": {
    "name": "ipython",
    "version": 2
   },
   "file_extension": ".py",
   "mimetype": "text/x-python",
   "name": "python",
   "nbconvert_exporter": "python",
   "pygments_lexer": "ipython2",
   "version": "2.7.10"
  }
 },
 "nbformat": 4,
 "nbformat_minor": 0
}
