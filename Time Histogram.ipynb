{
 "cells": [
  {
   "cell_type": "code",
   "execution_count": 4,
   "metadata": {
    "collapsed": true
   },
   "outputs": [],
   "source": [
    "from pymongo import MongoClient\n",
    "import datetime\n",
    "from dateutil import parser\n",
    "import pandas as pd\n",
    "from pytz import timezone"
   ]
  },
  {
   "cell_type": "markdown",
   "metadata": {},
   "source": [
    "This notebook relies on a database of tweets.  By default, the database is running on the same computer where this code runs, so it is not necessary to specify the IP address of the DB.  Unless you have scraped tweets too, you will not be able to run this notebook."
   ]
  },
  {
   "cell_type": "code",
   "execution_count": null,
   "metadata": {
    "collapsed": true
   },
   "outputs": [],
   "source": [
    "# Initialize mongoDB client\n",
    "client = MongoClient()\n",
    "db = client.retweets"
   ]
  },
  {
   "cell_type": "markdown",
   "metadata": {},
   "source": [
    "The `get_time_bins` function uses a histogram approach, iterating through each tweet and then counting it towards the appropriate bin.  This is faster than several other approaches that I tried."
   ]
  },
  {
   "cell_type": "code",
   "execution_count": 5,
   "metadata": {
    "collapsed": true
   },
   "outputs": [],
   "source": [
    "def get_time_bins(collection):\n",
    "    \"\"\"\n",
    "    Counts number of tweets in each hour in database.  Uses hours ending at :45 becuase that's when I collected data.\n",
    "    \"\"\"\n",
    "    # Get first and last tweet, adjust to standard 45-minute window\n",
    "    first_tweet = collection.find().sort('id', 1).limit(1).next()\n",
    "    first = parser.parse(first_tweet['created_at'])\n",
    "    first =  datetime.datetime(year=first.year, month=first.month, day=first.day, hour=first.hour, minute=45, tzinfo=first.tzinfo) - datetime.timedelta(hours=1)\n",
    "    last_tweet = collection.find().sort('id', -1).limit(1).next()\n",
    "    last = parser.parse(last_tweet['created_at'])\n",
    "    last =  datetime.datetime(year=last.year, month=last.month, day=last.day, hour=last.hour, minute=45, tzinfo=last.tzinfo) + datetime.timedelta(hours=1)\n",
    "    # now = datetime.datetime.now(timezone('UTC'))\n",
    "    # now =  datetime.datetime(year=now.year, month=now.month, day=now.day, hour=now.hour, minute=45, tzinfo=now.tzinfo)\n",
    "\n",
    "    # Build initial data for dataframe\n",
    "    num_bins = int((last - first).total_seconds()/3600)\n",
    "    bin_ends = first + pd.np.arange(1, num_bins+1)*datetime.timedelta(hours=1)\n",
    "    init_df = [(be, be, 0) for be in bin_ends]\n",
    "    df = pd.DataFrame(init_df, columns=['first_time', 'end', 'bin_count'])\n",
    "\n",
    "    # Place tweets into bins\n",
    "    for tweet in collection.find():\n",
    "        tweet_time = parser.parse(tweet['created_at']) # parse tweet time\n",
    "        binno = int((tweet_time - first).total_seconds()/3600)\n",
    "        if binno < 0:\n",
    "            continue\n",
    "        df.set_value(binno, 'bin_count', df.bin_count[binno]+1)\n",
    "        if tweet_time < df.iloc[binno].first_time:\n",
    "            df.set_value(binno, 'first_time', tweet_time)\n",
    "    df = df[df.bin_count != 0]\n",
    "    return df"
   ]
  },
  {
   "cell_type": "markdown",
   "metadata": {},
   "source": [
    "Calculate tweet-time histogram for a single user"
   ]
  },
  {
   "cell_type": "code",
   "execution_count": 14,
   "metadata": {
    "collapsed": false
   },
   "outputs": [
    {
     "data": {
      "text/html": [
       "<div>\n",
       "<table border=\"1\" class=\"dataframe\">\n",
       "  <thead>\n",
       "    <tr style=\"text-align: right;\">\n",
       "      <th></th>\n",
       "      <th>first_time</th>\n",
       "      <th>end</th>\n",
       "      <th>bin_count</th>\n",
       "    </tr>\n",
       "  </thead>\n",
       "  <tbody>\n",
       "    <tr>\n",
       "      <th>0</th>\n",
       "      <td>2016-09-01 00:04:48+00:00</td>\n",
       "      <td>2016-09-01 00:45:00+00:00</td>\n",
       "      <td>8133</td>\n",
       "    </tr>\n",
       "    <tr>\n",
       "      <th>1</th>\n",
       "      <td>2016-09-01 01:44:40+00:00</td>\n",
       "      <td>2016-09-01 01:45:00+00:00</td>\n",
       "      <td>100</td>\n",
       "    </tr>\n",
       "    <tr>\n",
       "      <th>2</th>\n",
       "      <td>2016-09-01 02:44:43+00:00</td>\n",
       "      <td>2016-09-01 02:45:00+00:00</td>\n",
       "      <td>100</td>\n",
       "    </tr>\n",
       "    <tr>\n",
       "      <th>3</th>\n",
       "      <td>2016-09-01 03:44:37+00:00</td>\n",
       "      <td>2016-09-01 03:45:00+00:00</td>\n",
       "      <td>100</td>\n",
       "    </tr>\n",
       "    <tr>\n",
       "      <th>4</th>\n",
       "      <td>2016-09-01 04:44:29+00:00</td>\n",
       "      <td>2016-09-01 04:45:00+00:00</td>\n",
       "      <td>100</td>\n",
       "    </tr>\n",
       "  </tbody>\n",
       "</table>\n",
       "</div>"
      ],
      "text/plain": [
       "                  first_time                        end  bin_count\n",
       "0  2016-09-01 00:04:48+00:00  2016-09-01 00:45:00+00:00       8133\n",
       "1  2016-09-01 01:44:40+00:00  2016-09-01 01:45:00+00:00        100\n",
       "2  2016-09-01 02:44:43+00:00  2016-09-01 02:45:00+00:00        100\n",
       "3  2016-09-01 03:44:37+00:00  2016-09-01 03:45:00+00:00        100\n",
       "4  2016-09-01 04:44:29+00:00  2016-09-01 04:45:00+00:00        100"
      ]
     },
     "execution_count": 14,
     "metadata": {},
     "output_type": "execute_result"
    }
   ],
   "source": [
    "user = '@realDonaldTrump'\n",
    "reponame = user[1:] + '_tweetsat'\n",
    "collection = db[reponame]\n",
    "#collection.find({'id': {'$gt': begin_id}}).sort('id', 1).limit(100).next()['created_at'] # test\n",
    "bins_df = get_time_bins(collection)\n",
    "bins_df.head()"
   ]
  },
  {
   "cell_type": "markdown",
   "metadata": {},
   "source": [
    "Convert tweet counts to rates (tweets/hour)"
   ]
  },
  {
   "cell_type": "code",
   "execution_count": 15,
   "metadata": {
    "collapsed": false
   },
   "outputs": [
    {
     "data": {
      "text/html": [
       "<div>\n",
       "<table border=\"1\" class=\"dataframe\">\n",
       "  <thead>\n",
       "    <tr style=\"text-align: right;\">\n",
       "      <th></th>\n",
       "      <th>first_time</th>\n",
       "      <th>end</th>\n",
       "      <th>bin_count</th>\n",
       "      <th>rate</th>\n",
       "    </tr>\n",
       "  </thead>\n",
       "  <tbody>\n",
       "    <tr>\n",
       "      <th>0</th>\n",
       "      <td>2016-09-01 00:04:48+00:00</td>\n",
       "      <td>2016-09-01 00:45:00+00:00</td>\n",
       "      <td>8133</td>\n",
       "      <td>12138.805970</td>\n",
       "    </tr>\n",
       "    <tr>\n",
       "      <th>1</th>\n",
       "      <td>2016-09-01 01:44:40+00:00</td>\n",
       "      <td>2016-09-01 01:45:00+00:00</td>\n",
       "      <td>100</td>\n",
       "      <td>18000.000000</td>\n",
       "    </tr>\n",
       "    <tr>\n",
       "      <th>2</th>\n",
       "      <td>2016-09-01 02:44:43+00:00</td>\n",
       "      <td>2016-09-01 02:45:00+00:00</td>\n",
       "      <td>100</td>\n",
       "      <td>21176.470588</td>\n",
       "    </tr>\n",
       "    <tr>\n",
       "      <th>3</th>\n",
       "      <td>2016-09-01 03:44:37+00:00</td>\n",
       "      <td>2016-09-01 03:45:00+00:00</td>\n",
       "      <td>100</td>\n",
       "      <td>15652.173913</td>\n",
       "    </tr>\n",
       "    <tr>\n",
       "      <th>4</th>\n",
       "      <td>2016-09-01 04:44:29+00:00</td>\n",
       "      <td>2016-09-01 04:45:00+00:00</td>\n",
       "      <td>100</td>\n",
       "      <td>11612.903226</td>\n",
       "    </tr>\n",
       "  </tbody>\n",
       "</table>\n",
       "</div>"
      ],
      "text/plain": [
       "                  first_time                        end  bin_count  \\\n",
       "0  2016-09-01 00:04:48+00:00  2016-09-01 00:45:00+00:00       8133   \n",
       "1  2016-09-01 01:44:40+00:00  2016-09-01 01:45:00+00:00        100   \n",
       "2  2016-09-01 02:44:43+00:00  2016-09-01 02:45:00+00:00        100   \n",
       "3  2016-09-01 03:44:37+00:00  2016-09-01 03:45:00+00:00        100   \n",
       "4  2016-09-01 04:44:29+00:00  2016-09-01 04:45:00+00:00        100   \n",
       "\n",
       "           rate  \n",
       "0  12138.805970  \n",
       "1  18000.000000  \n",
       "2  21176.470588  \n",
       "3  15652.173913  \n",
       "4  11612.903226  "
      ]
     },
     "execution_count": 15,
     "metadata": {},
     "output_type": "execute_result"
    }
   ],
   "source": [
    "rates = bins_df['bin_count']/((bins_df['end'] - bins_df['first_time'])/pd.np.timedelta64(1, 's'))*3600\n",
    "bins_df['rate'] = rates\n",
    "bins_df.head()"
   ]
  },
  {
   "cell_type": "markdown",
   "metadata": {},
   "source": [
    "Produce a plot of tweet rate over time."
   ]
  },
  {
   "cell_type": "code",
   "execution_count": 16,
   "metadata": {
    "collapsed": false
   },
   "outputs": [
    {
     "data": {
      "image/png": "[encoded data removed]",
      "text/plain": [
       "<matplotlib.figure.Figure at 0x106f006d0>"
      ]
     },
     "metadata": {},
     "output_type": "display_data"
    }
   ],
   "source": [
    "# Plot the rate over time\n",
    "import matplotlib.pyplot as plt\n",
    "%matplotlib inline\n",
    "plt.plot(range(len(rates)), rates)\n",
    "\n",
    "plt.xlabel('Interval No')\n",
    "plt.ylabel('Number of tweets per hour')\n",
    "plt.title(user)\n",
    "plt.show()"
   ]
  },
  {
   "cell_type": "code",
   "execution_count": 9,
   "metadata": {
    "collapsed": false
   },
   "outputs": [],
   "source": []
  }
 ],
 "metadata": {
  "kernelspec": {
   "display_name": "Python 2",
   "language": "python",
   "name": "python2"
  },
  "language_info": {
   "codemirror_mode": {
    "name": "ipython",
    "version": 2
   },
   "file_extension": ".py",
   "mimetype": "text/x-python",
   "name": "python",
   "nbconvert_exporter": "python",
   "pygments_lexer": "ipython2",
   "version": "2.7.10"
  }
 },
 "nbformat": 4,
 "nbformat_minor": 0
}
